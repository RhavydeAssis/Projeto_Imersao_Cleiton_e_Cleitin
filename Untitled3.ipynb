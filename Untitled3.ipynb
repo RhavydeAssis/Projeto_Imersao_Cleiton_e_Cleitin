{
  "nbformat": 4,
  "nbformat_minor": 0,
  "metadata": {
    "colab": {
      "provenance": [],
      "authorship_tag": "ABX9TyPKjhEIzfb/woUrv4pJI23X",
      "include_colab_link": true
    },
    "kernelspec": {
      "name": "python3",
      "display_name": "Python 3"
    },
    "language_info": {
      "name": "python"
    }
  },
  "cells": [
    {
      "cell_type": "markdown",
      "metadata": {
        "id": "view-in-github",
        "colab_type": "text"
      },
      "source": [
        "<a href=\"https://colab.research.google.com/github/RhavydeAssis/Projeto_Imersao_Cleiton_e_Cleitin/blob/main/Untitled3.ipynb\" target=\"_parent\"><img src=\"https://colab.research.google.com/assets/colab-badge.svg\" alt=\"Open In Colab\"/></a>"
      ]
    },
    {
      "cell_type": "markdown",
      "source": [
        "Iniciando código"
      ],
      "metadata": {
        "id": "gctcYxim32wM"
      }
    },
    {
      "cell_type": "code",
      "execution_count": null,
      "metadata": {
        "id": "Y6CZrrDEGtRq"
      },
      "outputs": [],
      "source": [
        "!pip install -q -U google-generativeai"
      ]
    },
    {
      "cell_type": "markdown",
      "source": [
        "Importanto o SDK\n"
      ],
      "metadata": {
        "id": "JxUcdK-N36pm"
      }
    },
    {
      "cell_type": "code",
      "source": [
        "import google.generativeai as genai\n",
        "from google.colab import userdata\n",
        "api_key = userdata.get('Seguranca')\n",
        "GOOGLE_API_KEY=(api_key==api_key)\n",
        "\n",
        "genai.configure(api_key=GOOGLE_API_KEY)"
      ],
      "metadata": {
        "id": "EzlpD-CiHAfR"
      },
      "execution_count": 99,
      "outputs": []
    },
    {
      "cell_type": "code",
      "source": [
        "for m in genai.list_models():\n",
        "  if 'generateContent' in m.supported_generation_methods:\n",
        "    print(m.name)"
      ],
      "metadata": {
        "colab": {
          "base_uri": "https://localhost:8080/",
          "height": 139
        },
        "id": "0qWjnnPYnG-6",
        "outputId": "fa5c51a9-9f29-4528-80c5-98eaccc475c5"
      },
      "execution_count": null,
      "outputs": [
        {
          "output_type": "stream",
          "name": "stdout",
          "text": [
            "models/gemini-1.0-pro\n",
            "models/gemini-1.0-pro-001\n",
            "models/gemini-1.0-pro-latest\n",
            "models/gemini-1.0-pro-vision-latest\n",
            "models/gemini-1.5-pro-latest\n",
            "models/gemini-pro\n",
            "models/gemini-pro-vision\n"
          ]
        }
      ]
    },
    {
      "cell_type": "markdown",
      "source": [
        "Adicionando os parâmetros dos chatbots\n"
      ],
      "metadata": {
        "id": "EU5K9tE44B3o"
      }
    },
    {
      "cell_type": "code",
      "source": [
        "pedro = {\n",
        "  \"candidate_count\": 1,\n",
        "  \"temperature\": 0.5,\n",
        "}\n",
        "\n",
        "josias = {\n",
        "    \"candidate_count\": 1,\n",
        "    \"temperature\": 1\n",
        "}"
      ],
      "metadata": {
        "id": "1MU_f5AAHw4j"
      },
      "execution_count": 88,
      "outputs": []
    },
    {
      "cell_type": "code",
      "source": [
        "caio = {\n",
        "  \"HARASSMENT\":'BLOCK_NONE',\n",
        "  \"HATE\":'BLOCK_NONE',\n",
        "  \"SEXUAL\":'BLOCK_NONE',\n",
        "  \"DANGEROUS\":'BLOCK_NONE' }\n",
        "\n",
        "marcos = {\n",
        "  \"HARASSMENT\":'BLOCK_NONE',\n",
        "  \"HATE\":'BLOCK_NONE',\n",
        "  \"SEXUAL\":'BLOCK_NONE',\n",
        "  \"DANGEROUS\":'BLOCK_NONE'\n",
        "  }"
      ],
      "metadata": {
        "id": "_1j_fVGfH5Qp"
      },
      "execution_count": 67,
      "outputs": []
    },
    {
      "cell_type": "code",
      "source": [
        "model = genai.GenerativeModel(model_name='gemini-1.0-pro',\n",
        "                                  generation_config=pedro,\n",
        "                                  safety_settings=caio,)\n",
        "\n",
        "modelo = genai.GenerativeModel(model_name='gemini-1.0-pro',\n",
        "                               generation_config=josias,\n",
        "                               safety_settings=marcos)\n"
      ],
      "metadata": {
        "id": "uyR-3ybyH6C-"
      },
      "execution_count": 89,
      "outputs": []
    },
    {
      "cell_type": "markdown",
      "source": [
        "Testando o módulo\n"
      ],
      "metadata": {
        "id": "zS6-2Vs74MWx"
      }
    },
    {
      "cell_type": "code",
      "source": [
        "response = model.generate_content(\"Que empresa criou o modelo de IA Gemini?\")\n",
        "response.text"
      ],
      "metadata": {
        "id": "QYOWa0FrH9pQ",
        "colab": {
          "base_uri": "https://localhost:8080/",
          "height": 35
        },
        "outputId": "956fbb60-d69a-4d00-b69b-32237fb1c446"
      },
      "execution_count": 97,
      "outputs": [
        {
          "output_type": "execute_result",
          "data": {
            "text/plain": [
              "'Google'"
            ],
            "application/vnd.google.colaboratory.intrinsic+json": {
              "type": "string"
            }
          },
          "metadata": {},
          "execution_count": 97
        }
      ]
    },
    {
      "cell_type": "markdown",
      "source": [
        "Chatbots"
      ],
      "metadata": {
        "id": "jsMTMa7I4XFY"
      }
    },
    {
      "cell_type": "code",
      "source": [
        "  Cleiton = model.start_chat(history=[])\n",
        "  Cleitin = modelo.start_chat(history=[])\n",
        "\n",
        "  fale = input(\"Você quer falar com Cleiton ou com Cleitin?: \")\n",
        "  if fale == \"Cleiton\":\n",
        "\n",
        "         while fale != \"obrigado\":\n",
        "            fale =  input(\"Pergunte a Cleiton: \")\n",
        "            response = Cleiton.send_message(fale)\n",
        "            print(\"Cleiton: \", response.text)\n",
        "\n",
        "\n",
        "\n",
        "elif fale == \"Cleitin\" :\n",
        "\n",
        "        while fale != \"valeu\":\n",
        "            fale = input(\"Pergunte a Cleitin: \")\n",
        "\n",
        "            response = Cleitin.send_message(fale)\n",
        "            print(\"Cleitin: \", response.text)\n"
      ],
      "metadata": {
        "colab": {
          "base_uri": "https://localhost:8080/",
          "height": 367
        },
        "id": "57HWydZXIDPK",
        "outputId": "efb80279-3854-4c77-c3f8-5f131cebf2f4"
      },
      "execution_count": 101,
      "outputs": [
        {
          "output_type": "stream",
          "name": "stdout",
          "text": [
            "Você quer falar com Cleiton ou com Cleitin?: Cleitin\n",
            "Pergunte a Cleitin: Fale usando gírias\n",
            "Cleitin:  Tamo junto, parça! Tá ligado? Coisa fina demais, mané! O bagulho tá fire hoje, mano. Bora zoar e curtir a resenha. Depois nóis se liga pra trocar uma ideia. Beleza?\n",
            "Pergunte a Cleitin: Qual o maior estado do mundo? \n",
            "Cleitin:  Alaska, parceiro!\n",
            "\n",
            "O Alaska é o maior estado dos Estados Unidos e o maior estado do mundo por área total, com mais de 1,7 milhões de quilômetros quadrados.\n",
            "Pergunte a Cleitin: velu\n",
            "Cleitin:  Opa, beleza? Tamo junto, parça!\n",
            "\n",
            "\"Velu\" é uma gíria usada para se referir a algo muito bom, demais, incrível. É como dizer que algo é \"massa\", \"maneiro\", \"top\".\n",
            "\n",
            "Exemplo: \"Esse rolê tá muitovelu, mano!\"\n",
            "\n",
            "Então, quando alguém te chama de \"velu\", é porque tá te achando muito legal, gente boa, parça. É um elogio, pode ficar feliz!\n",
            "Pergunte a Cleitin: velu\n",
            "Cleitin:  Massa demais, parça! Tamo junto!\n",
            "Pergunte a Cleitin: valeu\n",
            "Cleitin:  De nada, parça! Tamo junto!\n"
          ]
        }
      ]
    }
  ]
}